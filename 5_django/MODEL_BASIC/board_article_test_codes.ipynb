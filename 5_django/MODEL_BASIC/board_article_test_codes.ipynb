{
 "cells": [
  {
   "cell_type": "markdown",
   "metadata": {},
   "source": [
    "# CRUD Basic\n",
    "\n",
    "## CRUD Operation\n",
    "\n",
    "* Create -> 데이터 생성\n",
    "* Read(Retreve) -> 데이터 조회\n",
    "* Update -> 데이터 수정\n",
    "* Delete -> 데이터 삭제\n",
    "\n",
    "## Articles Table - schema\n",
    "\n",
    "\n",
    "\n",
    "| Field name | Data type                 |\n",
    "| ---------- | ------------------------- |\n",
    "| `id`       | Integer,Primary key       |\n",
    "| `title`    | CharField(max_length=200) |\n",
    "| `content`  | TextField()               |\n",
    "\n",
    "\n"
   ]
  },
  {
   "cell_type": "code",
   "execution_count": 1,
   "metadata": {},
   "outputs": [],
   "source": [
    "from board.models import Article # 이미 import 되어있음 (plus-version)"
   ]
  },
  {
   "cell_type": "markdown",
   "metadata": {},
   "source": [
    "## Creat (데이터 생성)\n",
    "1. `Article` 객체를 생성한다.\n",
    "2. 필드를 채운다.\n",
    "3. 저장한다."
   ]
  },
  {
   "cell_type": "code",
   "execution_count": 11,
   "metadata": {},
   "outputs": [],
   "source": [
    "# 생성 -> 필드 채우기 -> 저장\n",
    "\n",
    "# article = Article()\n",
    "\n",
    "# article.title = 'Test'\n",
    "# article.content = 'This is test Article'\n",
    "\n",
    "# article.save()"
   ]
  },
  {
   "cell_type": "code",
   "execution_count": null,
   "metadata": {},
   "outputs": [],
   "source": [
    "# 생성 & 필드채우기 -> 저장\n",
    "\n",
    "# article = Article(title='Test',content='Test article')\n",
    "\n",
    "# article.save()"
   ]
  },
  {
   "cell_type": "code",
   "execution_count": null,
   "metadata": {},
   "outputs": [],
   "source": [
    "# 생성 & 필드 채우기 & 저장\n",
    "# (Aritcle.object).create(title='OneLine',content = 'create')"
   ]
  },
  {
   "cell_type": "markdown",
   "metadata": {},
   "source": [
    "## Read (데이터 조회)\n",
    "1. 여러개 조회\n",
    "    * 전체 조회\n",
    "    * 특정 조건을 만족하는 레코드들 조회\n",
    "2. 정확히 한개 조회\n",
    "    * ID(PK) 로 조회\n",
    "    * 특정 조건을 만족하는 첫 번째 레코드 조회"
   ]
  },
  {
   "cell_type": "code",
   "execution_count": 2,
   "metadata": {},
   "outputs": [
    {
     "data": {
      "text/plain": [
       "<QuerySet [<Article: 1 hi - hello world>, <Article: 2 메롱 - 윤지뉴나>, <Article: 3 Test - This is test Article>]>"
      ]
     },
     "execution_count": 2,
     "metadata": {},
     "output_type": "execute_result"
    }
   ],
   "source": [
    "(Article.objects).all() # (매니저 역할)"
   ]
  },
  {
   "cell_type": "code",
   "execution_count": 3,
   "metadata": {},
   "outputs": [
    {
     "data": {
      "text/plain": [
       "<Article: 2 메롱 - 윤지뉴나>"
      ]
     },
     "execution_count": 3,
     "metadata": {},
     "output_type": "execute_result"
    }
   ],
   "source": [
    "# id로 1개 조회\n",
    "(Article.objects).get(id=2)"
   ]
  },
  {
   "cell_type": "markdown",
   "metadata": {},
   "source": [
    "## Update (데이터 수정)\n",
    "1. `Aricle` 객체를 하나 고른다.\n",
    "2. 필드를 알맞게 수정한다.\n",
    "3. 저장한다."
   ]
  },
  {
   "cell_type": "code",
   "execution_count": 8,
   "metadata": {},
   "outputs": [],
   "source": [
    "article = Article.objects.get(pk=2)\n",
    "\n",
    "article.title = '윤지누나'\n",
    "article.content = '멍청이'\n",
    "\n",
    "article.save()"
   ]
  },
  {
   "cell_type": "code",
   "execution_count": 13,
   "metadata": {},
   "outputs": [
    {
     "name": "stdout",
     "output_type": "stream",
     "text": [
      "2 윤지누나 - 멍청이\n"
     ]
    }
   ],
   "source": [
    "article = Article.objects.get(id=2)\n",
    "print(article)"
   ]
  },
  {
   "cell_type": "markdown",
   "metadata": {},
   "source": [
    "## Delete (데이터 삭제)\n",
    "1. `Article` 객체를 하나 고른다.\n",
    "2. 삭제한다."
   ]
  },
  {
   "cell_type": "code",
   "execution_count": 10,
   "metadata": {},
   "outputs": [
    {
     "data": {
      "text/plain": [
       "(1, {'board.Article': 1})"
      ]
     },
     "execution_count": 10,
     "metadata": {},
     "output_type": "execute_result"
    }
   ],
   "source": [
    "# article = Article.objects.get(id=3)\n",
    "\n",
    "# article.delete()"
   ]
  },
  {
   "cell_type": "code",
   "execution_count": null,
   "metadata": {},
   "outputs": [],
   "source": []
  }
 ],
 "metadata": {
  "kernelspec": {
   "display_name": "Django Shell-Plus",
   "language": "python",
   "name": "django_extensions"
  },
  "language_info": {
   "codemirror_mode": {
    "name": "ipython",
    "version": 3
   },
   "file_extension": ".py",
   "mimetype": "text/x-python",
   "name": "python",
   "nbconvert_exporter": "python",
   "pygments_lexer": "ipython3",
   "version": "3.7.3"
  },
  "toc": {
   "base_numbering": 1,
   "nav_menu": {},
   "number_sections": true,
   "sideBar": true,
   "skip_h1_title": false,
   "title_cell": "Table of Contents",
   "title_sidebar": "Contents",
   "toc_cell": false,
   "toc_position": {},
   "toc_section_display": true,
   "toc_window_display": false
  },
  "varInspector": {
   "cols": {
    "lenName": 16,
    "lenType": 16,
    "lenVar": 40
   },
   "kernels_config": {
    "python": {
     "delete_cmd_postfix": "",
     "delete_cmd_prefix": "del ",
     "library": "var_list.py",
     "varRefreshCmd": "print(var_dic_list())"
    },
    "r": {
     "delete_cmd_postfix": ") ",
     "delete_cmd_prefix": "rm(",
     "library": "var_list.r",
     "varRefreshCmd": "cat(var_dic_list()) "
    }
   },
   "types_to_exclude": [
    "module",
    "function",
    "builtin_function_or_method",
    "instance",
    "_Feature"
   ],
   "window_display": false
  }
 },
 "nbformat": 4,
 "nbformat_minor": 2
}
